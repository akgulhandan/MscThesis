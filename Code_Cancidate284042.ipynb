{
  "nbformat": 4,
  "nbformat_minor": 0,
  "metadata": {
    "colab": {
      "provenance": [],
      "authorship_tag": "ABX9TyNVD35OtTGWwvms+wuLdpfd",
      "include_colab_link": true
    },
    "kernelspec": {
      "name": "python3",
      "display_name": "Python 3"
    },
    "language_info": {
      "name": "python"
    }
  },
  "cells": [
    {
      "cell_type": "markdown",
      "metadata": {
        "id": "view-in-github",
        "colab_type": "text"
      },
      "source": [
        "<a href=\"https://colab.research.google.com/github/akgulhandan/MscThesis/blob/main/Code_Cancidate284042.ipynb\" target=\"_parent\"><img src=\"https://colab.research.google.com/assets/colab-badge.svg\" alt=\"Open In Colab\"/></a>"
      ]
    },
    {
      "cell_type": "markdown",
      "source": [
        "**Candidate No: 284042**\n",
        "\n",
        "> Machine Learning Resit Assignment\n",
        "\n",
        "\n",
        "\n"
      ],
      "metadata": {
        "id": "cV6UJMcCpzn4"
      }
    },
    {
      "cell_type": "markdown",
      "source": [
        "**Reading the Data and Importing Libraries**\n",
        "\n",
        "I use Google Colab, so I put the data in my drive, I download the data from my drive to colab to use."
      ],
      "metadata": {
        "id": "USlOl7rC_uj-"
      }
    },
    {
      "cell_type": "code",
      "execution_count": null,
      "metadata": {
        "colab": {
          "base_uri": "https://localhost:8080/"
        },
        "id": "c99s0CJL658r",
        "outputId": "a61c750e-34a0-4246-ee26-80548ae4e5d3"
      },
      "outputs": [
        {
          "output_type": "stream",
          "name": "stdout",
          "text": [
            "Downloading...\n",
            "From: https://drive.google.com/uc?id=1Q8GpGUcKDyFO7_1A5KD8v5x3yKgxzOD6\n",
            "To: /content/Met dataset - 2015-to-2022_12months.csv\n",
            "100% 19.9M/19.9M [00:00<00:00, 116MB/s]\n",
            "Downloading...\n",
            "From: https://drive.google.com/uc?id=1s6RSjgPWk-AjVDtCCURkx4svznkBFMVo\n",
            "To: /content/METADATA.xlsx\n",
            "100% 20.0k/20.0k [00:00<00:00, 30.4MB/s]\n"
          ]
        }
      ],
      "source": [
        "## Get the dataset into the colab folder\n",
        "\n",
        "!gdown 1Q8GpGUcKDyFO7_1A5KD8v5x3yKgxzOD6  #Met dataset - 2015-to-2022_12months.csv\n",
        "!gdown 1s6RSjgPWk-AjVDtCCURkx4svznkBFMVo  #METADATA.xlsx"
      ]
    },
    {
      "cell_type": "code",
      "source": [
        "# Load the dataset to inspect its structure and understand the available features\n",
        "import pandas as pd\n",
        "\n",
        "# Loading the dataset\n",
        "data = pd.read_csv(\"Met dataset - 2015-to-2022_12months.csv\")\n",
        "\n",
        "# Display the first few rows of the dataset and the data types of the columns\n",
        "data.head(), data.info()\n"
      ],
      "metadata": {
        "colab": {
          "base_uri": "https://localhost:8080/"
        },
        "id": "rmmSYrMQ7Lwy",
        "outputId": "68163722-faa8-4e97-b7e2-102c44b2ffe0"
      },
      "execution_count": null,
      "outputs": [
        {
          "output_type": "stream",
          "name": "stdout",
          "text": [
            "<class 'pandas.core.frame.DataFrame'>\n",
            "RangeIndex: 33235 entries, 0 to 33234\n",
            "Columns: 111 entries, x_coord to rainfall_12\n",
            "dtypes: float64(108), int64(3)\n",
            "memory usage: 28.1 MB\n"
          ]
        },
        {
          "output_type": "execute_result",
          "data": {
            "text/plain": [
              "(   x_coord  y_coord  year  groundfrost_1  groundfrost_2  groundfrost_3  \\\n",
              " 0        1        1     1            NaN            NaN            NaN   \n",
              " 1        1        1     1            NaN            NaN            NaN   \n",
              " 2        1        1     1            NaN            NaN            NaN   \n",
              " 3        1        1     1            NaN            NaN            NaN   \n",
              " 4        1        1     1            NaN            NaN            NaN   \n",
              " \n",
              "    groundfrost_4  groundfrost_5  groundfrost_6  groundfrost_7  ...  \\\n",
              " 0            NaN            NaN            NaN            NaN  ...   \n",
              " 1            NaN            NaN            NaN            NaN  ...   \n",
              " 2            NaN            NaN            NaN            NaN  ...   \n",
              " 3            NaN            NaN            NaN            NaN  ...   \n",
              " 4            NaN            NaN            NaN            NaN  ...   \n",
              " \n",
              "    rainfall_3  rainfall_4  rainfall_5  rainfall_6  rainfall_7  rainfall_8  \\\n",
              " 0         NaN         NaN         NaN         NaN         NaN         NaN   \n",
              " 1         NaN         NaN         NaN         NaN         NaN         NaN   \n",
              " 2         NaN         NaN         NaN         NaN         NaN         NaN   \n",
              " 3         NaN         NaN         NaN         NaN         NaN         NaN   \n",
              " 4         NaN         NaN         NaN         NaN         NaN         NaN   \n",
              " \n",
              "    rainfall_9  rainfall_10  rainfall_11  rainfall_12  \n",
              " 0         NaN          NaN          NaN          NaN  \n",
              " 1         NaN          NaN          NaN          NaN  \n",
              " 2         NaN          NaN          NaN          NaN  \n",
              " 3         NaN          NaN          NaN          NaN  \n",
              " 4         NaN          NaN          NaN          NaN  \n",
              " \n",
              " [5 rows x 111 columns],\n",
              " None)"
            ]
          },
          "metadata": {},
          "execution_count": 2
        }
      ]
    },
    {
      "cell_type": "markdown",
      "source": [
        "**Cleaning the Data**"
      ],
      "metadata": {
        "id": "K8fJkjDGAHpv"
      }
    },
    {
      "cell_type": "code",
      "source": [
        "#Check the null or NaN values :\n",
        "data.isna().sum()\n",
        "\n",
        "# apart from x_coord, y_coord and year , there are 26605 null values in rest of each column"
      ],
      "metadata": {
        "colab": {
          "base_uri": "https://localhost:8080/",
          "height": 458
        },
        "id": "Kncplrfi7eKG",
        "outputId": "0d629ecf-53b8-49d8-fbb2-85f768d2bff5"
      },
      "execution_count": null,
      "outputs": [
        {
          "output_type": "execute_result",
          "data": {
            "text/plain": [
              "x_coord              0\n",
              "y_coord              0\n",
              "year                 0\n",
              "groundfrost_1    26605\n",
              "groundfrost_2    26605\n",
              "                 ...  \n",
              "rainfall_8       26605\n",
              "rainfall_9       26605\n",
              "rainfall_10      26605\n",
              "rainfall_11      26605\n",
              "rainfall_12      26605\n",
              "Length: 111, dtype: int64"
            ],
            "text/html": [
              "<div>\n",
              "<style scoped>\n",
              "    .dataframe tbody tr th:only-of-type {\n",
              "        vertical-align: middle;\n",
              "    }\n",
              "\n",
              "    .dataframe tbody tr th {\n",
              "        vertical-align: top;\n",
              "    }\n",
              "\n",
              "    .dataframe thead th {\n",
              "        text-align: right;\n",
              "    }\n",
              "</style>\n",
              "<table border=\"1\" class=\"dataframe\">\n",
              "  <thead>\n",
              "    <tr style=\"text-align: right;\">\n",
              "      <th></th>\n",
              "      <th>0</th>\n",
              "    </tr>\n",
              "  </thead>\n",
              "  <tbody>\n",
              "    <tr>\n",
              "      <th>x_coord</th>\n",
              "      <td>0</td>\n",
              "    </tr>\n",
              "    <tr>\n",
              "      <th>y_coord</th>\n",
              "      <td>0</td>\n",
              "    </tr>\n",
              "    <tr>\n",
              "      <th>year</th>\n",
              "      <td>0</td>\n",
              "    </tr>\n",
              "    <tr>\n",
              "      <th>groundfrost_1</th>\n",
              "      <td>26605</td>\n",
              "    </tr>\n",
              "    <tr>\n",
              "      <th>groundfrost_2</th>\n",
              "      <td>26605</td>\n",
              "    </tr>\n",
              "    <tr>\n",
              "      <th>...</th>\n",
              "      <td>...</td>\n",
              "    </tr>\n",
              "    <tr>\n",
              "      <th>rainfall_8</th>\n",
              "      <td>26605</td>\n",
              "    </tr>\n",
              "    <tr>\n",
              "      <th>rainfall_9</th>\n",
              "      <td>26605</td>\n",
              "    </tr>\n",
              "    <tr>\n",
              "      <th>rainfall_10</th>\n",
              "      <td>26605</td>\n",
              "    </tr>\n",
              "    <tr>\n",
              "      <th>rainfall_11</th>\n",
              "      <td>26605</td>\n",
              "    </tr>\n",
              "    <tr>\n",
              "      <th>rainfall_12</th>\n",
              "      <td>26605</td>\n",
              "    </tr>\n",
              "  </tbody>\n",
              "</table>\n",
              "<p>111 rows × 1 columns</p>\n",
              "</div><br><label><b>dtype:</b> int64</label>"
            ]
          },
          "metadata": {},
          "execution_count": 3
        }
      ]
    },
    {
      "cell_type": "code",
      "source": [
        "# Cleaning the data\n",
        "\n",
        "# Drop null or NaN values\n",
        "cleaned_data = data.dropna() ## 6630 entries left to work on\n",
        "\n",
        "# Display the cleaned dataset\n",
        "cleaned_data.info(), cleaned_data.head()\n"
      ],
      "metadata": {
        "colab": {
          "base_uri": "https://localhost:8080/"
        },
        "id": "ixcRP1GH7XiI",
        "outputId": "0ed0a979-62c3-4704-b421-66bac50e46f1"
      },
      "execution_count": null,
      "outputs": [
        {
          "output_type": "stream",
          "name": "stdout",
          "text": [
            "<class 'pandas.core.frame.DataFrame'>\n",
            "Index: 6630 entries, 58 to 33212\n",
            "Columns: 111 entries, x_coord to rainfall_12\n",
            "dtypes: float64(108), int64(3)\n",
            "memory usage: 5.7 MB\n"
          ]
        },
        {
          "output_type": "execute_result",
          "data": {
            "text/plain": [
              "(None,\n",
              "     x_coord  y_coord  year  groundfrost_1  groundfrost_2  groundfrost_3  \\\n",
              " 58        4        4     1      12.937533      13.568946      14.002924   \n",
              " 59        4        4     1      14.848941      16.546361      16.412982   \n",
              " 60        4        4     1      16.143669      18.954618      16.558735   \n",
              " 61        4        4     1      17.125375      19.603409      14.970040   \n",
              " 62        4        4     1      13.800115      17.221303      13.203586   \n",
              " \n",
              "     groundfrost_4  groundfrost_5  groundfrost_6  groundfrost_7  ...  \\\n",
              " 58       6.514516       1.594163       0.450717       0.104014  ...   \n",
              " 59       8.735280       2.297967       0.183331       0.058646  ...   \n",
              " 60      11.486554       2.132211       0.187823       0.028355  ...   \n",
              " 61      11.154617       3.935746       1.176994       0.305995  ...   \n",
              " 62       9.872522       3.147038       0.501383       0.091458  ...   \n",
              " \n",
              "     rainfall_3  rainfall_4  rainfall_5  rainfall_6  rainfall_7  rainfall_8  \\\n",
              " 58   66.198718   31.300040   95.421628   67.071807  106.219275  161.098955   \n",
              " 59   62.094759   24.662319   92.153909   55.041021  105.662016  150.789996   \n",
              " 60   44.706184   21.634113   74.572646   30.715296   83.114841  148.712636   \n",
              " 61   27.085636   24.519138   71.388078   30.992329   62.796280  140.831488   \n",
              " 62   24.018950   23.038710   60.797128   34.568320   54.392100  137.835483   \n",
              " \n",
              "     rainfall_9  rainfall_10  rainfall_11  rainfall_12  \n",
              " 58   84.857116    91.000653   170.214777   171.660863  \n",
              " 59   77.321700    91.465959   159.294862   191.236594  \n",
              " 60   58.225391    80.851009    94.896134   113.086036  \n",
              " 61   66.577485    76.619417    94.541716   100.285699  \n",
              " 62   67.606297    66.430573    93.085674    94.571354  \n",
              " \n",
              " [5 rows x 111 columns])"
            ]
          },
          "metadata": {},
          "execution_count": 4
        }
      ]
    },
    {
      "cell_type": "code",
      "source": [
        "cleaned_data.info(verbose=True)"
      ],
      "metadata": {
        "colab": {
          "base_uri": "https://localhost:8080/"
        },
        "id": "xbGlS07cbQ0U",
        "outputId": "b5739f9a-cb15-49ef-85cc-42b5eb819e83"
      },
      "execution_count": null,
      "outputs": [
        {
          "output_type": "stream",
          "name": "stdout",
          "text": [
            "<class 'pandas.core.frame.DataFrame'>\n",
            "Index: 6630 entries, 58 to 33212\n",
            "Data columns (total 111 columns):\n",
            " #    Column          Dtype  \n",
            "---   ------          -----  \n",
            " 0    x_coord         int64  \n",
            " 1    y_coord         int64  \n",
            " 2    year            int64  \n",
            " 3    groundfrost_1   float64\n",
            " 4    groundfrost_2   float64\n",
            " 5    groundfrost_3   float64\n",
            " 6    groundfrost_4   float64\n",
            " 7    groundfrost_5   float64\n",
            " 8    groundfrost_6   float64\n",
            " 9    groundfrost_7   float64\n",
            " 10   groundfrost_8   float64\n",
            " 11   groundfrost_9   float64\n",
            " 12   groundfrost_10  float64\n",
            " 13   groundfrost_11  float64\n",
            " 14   groundfrost_12  float64\n",
            " 15   hurs_1          float64\n",
            " 16   hurs_2          float64\n",
            " 17   hurs_3          float64\n",
            " 18   hurs_4          float64\n",
            " 19   hurs_5          float64\n",
            " 20   hurs_6          float64\n",
            " 21   hurs_7          float64\n",
            " 22   hurs_8          float64\n",
            " 23   hurs_9          float64\n",
            " 24   hurs_10         float64\n",
            " 25   hurs_11         float64\n",
            " 26   hurs_12         float64\n",
            " 27   psl_1           float64\n",
            " 28   psl_2           float64\n",
            " 29   psl_3           float64\n",
            " 30   psl_4           float64\n",
            " 31   psl_5           float64\n",
            " 32   psl_6           float64\n",
            " 33   psl_7           float64\n",
            " 34   psl_8           float64\n",
            " 35   psl_9           float64\n",
            " 36   psl_10          float64\n",
            " 37   psl_11          float64\n",
            " 38   psl_12          float64\n",
            " 39   sun_1           float64\n",
            " 40   sun_2           float64\n",
            " 41   sun_3           float64\n",
            " 42   sun_4           float64\n",
            " 43   sun_5           float64\n",
            " 44   sun_6           float64\n",
            " 45   sun_7           float64\n",
            " 46   sun_8           float64\n",
            " 47   sun_9           float64\n",
            " 48   sun_10          float64\n",
            " 49   sun_11          float64\n",
            " 50   sun_12          float64\n",
            " 51   pv_1            float64\n",
            " 52   pv_2            float64\n",
            " 53   pv_3            float64\n",
            " 54   pv_4            float64\n",
            " 55   pv_5            float64\n",
            " 56   pv_6            float64\n",
            " 57   pv_7            float64\n",
            " 58   pv_8            float64\n",
            " 59   pv_9            float64\n",
            " 60   pv_10           float64\n",
            " 61   pv_11           float64\n",
            " 62   pv_12           float64\n",
            " 63   sfcWind_1       float64\n",
            " 64   sfcWind_2       float64\n",
            " 65   sfcWind_3       float64\n",
            " 66   sfcWind_4       float64\n",
            " 67   sfcWind_5       float64\n",
            " 68   sfcWind_6       float64\n",
            " 69   sfcWind_7       float64\n",
            " 70   sfcWind_8       float64\n",
            " 71   sfcWind_9       float64\n",
            " 72   sfcWind_10      float64\n",
            " 73   sfcWind_11      float64\n",
            " 74   sfcWind_12      float64\n",
            " 75   tas_1           float64\n",
            " 76   tas_2           float64\n",
            " 77   tas_3           float64\n",
            " 78   tas_4           float64\n",
            " 79   tas_5           float64\n",
            " 80   tas_6           float64\n",
            " 81   tas_7           float64\n",
            " 82   tas_8           float64\n",
            " 83   tas_9           float64\n",
            " 84   tas_10          float64\n",
            " 85   tas_11          float64\n",
            " 86   tas_12          float64\n",
            " 87   snowLying_1     float64\n",
            " 88   snowLying_2     float64\n",
            " 89   snowLying_3     float64\n",
            " 90   snowLying_4     float64\n",
            " 91   snowLying_5     float64\n",
            " 92   snowLying_6     float64\n",
            " 93   snowLying_7     float64\n",
            " 94   snowLying_8     float64\n",
            " 95   snowLying_9     float64\n",
            " 96   snowLying_10    float64\n",
            " 97   snowLying_11    float64\n",
            " 98   snowLying_12    float64\n",
            " 99   rainfall_1      float64\n",
            " 100  rainfall_2      float64\n",
            " 101  rainfall_3      float64\n",
            " 102  rainfall_4      float64\n",
            " 103  rainfall_5      float64\n",
            " 104  rainfall_6      float64\n",
            " 105  rainfall_7      float64\n",
            " 106  rainfall_8      float64\n",
            " 107  rainfall_9      float64\n",
            " 108  rainfall_10     float64\n",
            " 109  rainfall_11     float64\n",
            " 110  rainfall_12     float64\n",
            "dtypes: float64(108), int64(3)\n",
            "memory usage: 5.7 MB\n"
          ]
        }
      ]
    },
    {
      "cell_type": "code",
      "source": [
        "# Checking for remaining missing values in the dataset\n",
        "missing_values_count = cleaned_data.isna().sum()\n",
        "\n",
        "# Getting a summary description of the dataset to understand the distributions\n",
        "data_summary = cleaned_data.describe()\n"
      ],
      "metadata": {
        "id": "lGOXlwag7vVF"
      },
      "execution_count": null,
      "outputs": []
    },
    {
      "cell_type": "code",
      "source": [
        "# Display the results of the missing values count and the data summary\n",
        "missing_values_count, data_summary"
      ],
      "metadata": {
        "colab": {
          "base_uri": "https://localhost:8080/"
        },
        "id": "ktuC1b90772Y",
        "outputId": "4145d4c2-73cb-448e-c0fa-54ffabc8395b"
      },
      "execution_count": null,
      "outputs": [
        {
          "output_type": "execute_result",
          "data": {
            "text/plain": [
              "(x_coord          0\n",
              " y_coord          0\n",
              " year             0\n",
              " groundfrost_1    0\n",
              " groundfrost_2    0\n",
              "                 ..\n",
              " rainfall_8       0\n",
              " rainfall_9       0\n",
              " rainfall_10      0\n",
              " rainfall_11      0\n",
              " rainfall_12      0\n",
              " Length: 111, dtype: int64,\n",
              "            x_coord      y_coord         year  groundfrost_1  groundfrost_2  \\\n",
              " count  6630.000000  6630.000000  6630.000000    6630.000000    6630.000000   \n",
              " mean      9.923077     9.923077     4.047059       7.967022       7.896864   \n",
              " std       4.245285     4.245285     2.034597       6.876222       6.811918   \n",
              " min       4.000000     4.000000     1.000000       0.008231       0.008231   \n",
              " 25%       6.000000     6.000000     2.000000       0.946713       0.946713   \n",
              " 50%       9.500000     9.500000     4.000000       7.034082       7.007468   \n",
              " 75%      13.000000    13.000000     6.000000      13.748285      13.558181   \n",
              " max      22.000000    22.000000     8.000000      28.015332      28.015332   \n",
              " \n",
              "        groundfrost_3  groundfrost_4  groundfrost_5  groundfrost_6  \\\n",
              " count    6630.000000    6630.000000    6630.000000    6630.000000   \n",
              " mean        7.882327       7.836455       7.695970       7.654871   \n",
              " std         6.797362       6.753774       6.754930       6.782279   \n",
              " min         0.008231       0.008231       0.008231       0.008231   \n",
              " 25%         0.946713       0.946713       0.892294       0.840970   \n",
              " 50%         7.007468       7.007468       6.726112       6.668558   \n",
              " 75%        13.483028      13.270946      13.101273      13.101273   \n",
              " max        28.015332      28.015332      28.015332      28.015332   \n",
              " \n",
              "        groundfrost_7  ...   rainfall_3   rainfall_4   rainfall_5   rainfall_6  \\\n",
              " count    6630.000000  ...  6630.000000  6630.000000  6630.000000  6630.000000   \n",
              " mean        7.630654  ...    95.995318    95.486136    95.844339    95.301693   \n",
              " std         6.803408  ...    67.624812    67.387678    67.288719    67.226370   \n",
              " min         0.008231  ...     0.857498     0.857498     0.857498     0.857498   \n",
              " 25%         0.766635  ...    50.293493    49.960026    50.376627    49.843740   \n",
              " 50%         6.668558  ...    79.722113    79.473167    79.702599    79.180876   \n",
              " 75%        13.101273  ...   123.035748   122.568040   122.771428   122.047166   \n",
              " max        28.015332  ...   697.134520   697.134520   697.134520   697.134520   \n",
              " \n",
              "         rainfall_7   rainfall_8   rainfall_9  rainfall_10  rainfall_11  \\\n",
              " count  6630.000000  6630.000000  6630.000000  6630.000000  6630.000000   \n",
              " mean     95.216766    94.560505    94.549497    95.647443    96.745711   \n",
              " std      67.326613    67.380575    67.405788    67.962742    68.644804   \n",
              " min       0.283924     0.283924     0.283924     0.283924     0.283924   \n",
              " 25%      49.863634    48.971950    48.844115    49.430539    49.738957   \n",
              " 50%      79.185051    78.349925    78.301519    79.532978    80.573750   \n",
              " 75%     122.068409   121.199505   121.243839   122.771428   124.337335   \n",
              " max     697.134520   697.134520   697.134520   697.134520   697.134520   \n",
              " \n",
              "        rainfall_12  \n",
              " count  6630.000000  \n",
              " mean     96.063469  \n",
              " std      67.472499  \n",
              " min       0.283924  \n",
              " 25%      49.695789  \n",
              " 50%      80.528417  \n",
              " 75%     123.714835  \n",
              " max     697.134520  \n",
              " \n",
              " [8 rows x 111 columns])"
            ]
          },
          "metadata": {},
          "execution_count": 8
        }
      ]
    },
    {
      "cell_type": "code",
      "source": [
        "cleaned_data.info()"
      ],
      "metadata": {
        "colab": {
          "base_uri": "https://localhost:8080/"
        },
        "id": "7gGPHEVz7_o-",
        "outputId": "cd50700b-355a-41b5-c365-fc431090216d"
      },
      "execution_count": null,
      "outputs": [
        {
          "output_type": "stream",
          "name": "stdout",
          "text": [
            "<class 'pandas.core.frame.DataFrame'>\n",
            "Index: 6630 entries, 58 to 33212\n",
            "Columns: 111 entries, x_coord to rainfall_12\n",
            "dtypes: float64(108), int64(3)\n",
            "memory usage: 5.7 MB\n"
          ]
        }
      ]
    },
    {
      "cell_type": "markdown",
      "source": [
        "**Selecting feature columns and Creating sequence for months**"
      ],
      "metadata": {
        "id": "DW-AoqMYAurv"
      }
    },
    {
      "cell_type": "code",
      "source": [
        "from sklearn.preprocessing import StandardScaler\n",
        "\n",
        "# Identify features (all columns except the last month's `hurs`)\n",
        "features = cleaned_data.drop([col for col in cleaned_data.columns if 'hurs_12' in col], axis=1)\n",
        "\n",
        "# Identify the target (the `hurs_12` column)\n",
        "target = cleaned_data['hurs_12']\n",
        "\n",
        "# Initialize the StandardScaler\n",
        "scaler = StandardScaler()\n",
        "\n",
        "# Fit the scaler to the features and transform the data\n",
        "normalized_features = scaler.fit_transform(features)\n",
        "\n",
        "# Convert normalized features back to a DataFrame for easier manipulation\n",
        "normalized_features_df = pd.DataFrame(normalized_features, columns=features.columns)\n",
        "\n",
        "# Add the target column back to the normalized features\n",
        "normalized_data = normalized_features_df.copy()\n",
        "normalized_data['target'] = target.reset_index(drop=True)\n",
        "\n",
        "# Display the first few rows of the normalized data to ensure it's correctly processed\n",
        "normalized_data_head = normalized_data.head()\n",
        "normalized_data_head"
      ],
      "metadata": {
        "colab": {
          "base_uri": "https://localhost:8080/",
          "height": 256
        },
        "id": "WUs2a539gdlP",
        "outputId": "4f96675a-1be4-4851-eaf5-3aaefb54218a"
      },
      "execution_count": null,
      "outputs": [
        {
          "output_type": "execute_result",
          "data": {
            "text/plain": [
              "    x_coord   y_coord      year  groundfrost_1  groundfrost_2  groundfrost_3  \\\n",
              "0 -1.395318 -1.395318 -1.497735       0.722909       0.832733       0.900505   \n",
              "1 -1.395318 -1.395318 -1.497735       1.000904       1.269855       1.255090   \n",
              "2 -1.395318 -1.395318 -1.497735       1.189209       1.623418       1.276534   \n",
              "3 -1.395318 -1.395318 -1.497735       1.331988       1.718668       1.042794   \n",
              "4 -1.395318 -1.395318 -1.497735       0.848363       1.368945       0.782901   \n",
              "\n",
              "   groundfrost_4  groundfrost_5  groundfrost_6  groundfrost_7  ...  \\\n",
              "0      -0.195748      -0.903380      -1.062283      -1.106388  ...   \n",
              "1       0.133095      -0.799181      -1.101710      -1.113057  ...   \n",
              "2       0.540494      -0.823721      -1.101047      -1.117509  ...   \n",
              "3       0.491342      -0.556706      -0.955190      -1.076697  ...   \n",
              "4       0.301494      -0.673475      -1.054812      -1.108233  ...   \n",
              "\n",
              "   rainfall_4  rainfall_5  rainfall_6  rainfall_7  rainfall_8  rainfall_9  \\\n",
              "0   -0.952562   -0.006283   -0.419954    0.163432    0.987576   -0.143802   \n",
              "1   -1.051070   -0.054849   -0.598927    0.155155    0.834569   -0.255603   \n",
              "2   -1.096010   -0.316150   -0.960803   -0.179763    0.803736   -0.538928   \n",
              "3   -1.053195   -0.363480   -0.956681   -0.481577    0.686763   -0.415011   \n",
              "4   -1.075165   -0.520888   -0.903484   -0.606413    0.642296   -0.399747   \n",
              "\n",
              "   rainfall_10  rainfall_11  rainfall_12     target  \n",
              "0    -0.068378     1.070359     1.120502  90.683255  \n",
              "1    -0.061531     0.911269     1.410653  89.832207  \n",
              "2    -0.217730    -0.026946     0.252308  88.550074  \n",
              "3    -0.279998    -0.032110     0.062582  86.504126  \n",
              "4    -0.429928    -0.053323    -0.022116  85.654894  \n",
              "\n",
              "[5 rows x 111 columns]"
            ],
            "text/html": [
              "\n",
              "  <div id=\"df-8aba6448-3ba6-4080-862e-90bb34192fa8\" class=\"colab-df-container\">\n",
              "    <div>\n",
              "<style scoped>\n",
              "    .dataframe tbody tr th:only-of-type {\n",
              "        vertical-align: middle;\n",
              "    }\n",
              "\n",
              "    .dataframe tbody tr th {\n",
              "        vertical-align: top;\n",
              "    }\n",
              "\n",
              "    .dataframe thead th {\n",
              "        text-align: right;\n",
              "    }\n",
              "</style>\n",
              "<table border=\"1\" class=\"dataframe\">\n",
              "  <thead>\n",
              "    <tr style=\"text-align: right;\">\n",
              "      <th></th>\n",
              "      <th>x_coord</th>\n",
              "      <th>y_coord</th>\n",
              "      <th>year</th>\n",
              "      <th>groundfrost_1</th>\n",
              "      <th>groundfrost_2</th>\n",
              "      <th>groundfrost_3</th>\n",
              "      <th>groundfrost_4</th>\n",
              "      <th>groundfrost_5</th>\n",
              "      <th>groundfrost_6</th>\n",
              "      <th>groundfrost_7</th>\n",
              "      <th>...</th>\n",
              "      <th>rainfall_4</th>\n",
              "      <th>rainfall_5</th>\n",
              "      <th>rainfall_6</th>\n",
              "      <th>rainfall_7</th>\n",
              "      <th>rainfall_8</th>\n",
              "      <th>rainfall_9</th>\n",
              "      <th>rainfall_10</th>\n",
              "      <th>rainfall_11</th>\n",
              "      <th>rainfall_12</th>\n",
              "      <th>target</th>\n",
              "    </tr>\n",
              "  </thead>\n",
              "  <tbody>\n",
              "    <tr>\n",
              "      <th>0</th>\n",
              "      <td>-1.395318</td>\n",
              "      <td>-1.395318</td>\n",
              "      <td>-1.497735</td>\n",
              "      <td>0.722909</td>\n",
              "      <td>0.832733</td>\n",
              "      <td>0.900505</td>\n",
              "      <td>-0.195748</td>\n",
              "      <td>-0.903380</td>\n",
              "      <td>-1.062283</td>\n",
              "      <td>-1.106388</td>\n",
              "      <td>...</td>\n",
              "      <td>-0.952562</td>\n",
              "      <td>-0.006283</td>\n",
              "      <td>-0.419954</td>\n",
              "      <td>0.163432</td>\n",
              "      <td>0.987576</td>\n",
              "      <td>-0.143802</td>\n",
              "      <td>-0.068378</td>\n",
              "      <td>1.070359</td>\n",
              "      <td>1.120502</td>\n",
              "      <td>90.683255</td>\n",
              "    </tr>\n",
              "    <tr>\n",
              "      <th>1</th>\n",
              "      <td>-1.395318</td>\n",
              "      <td>-1.395318</td>\n",
              "      <td>-1.497735</td>\n",
              "      <td>1.000904</td>\n",
              "      <td>1.269855</td>\n",
              "      <td>1.255090</td>\n",
              "      <td>0.133095</td>\n",
              "      <td>-0.799181</td>\n",
              "      <td>-1.101710</td>\n",
              "      <td>-1.113057</td>\n",
              "      <td>...</td>\n",
              "      <td>-1.051070</td>\n",
              "      <td>-0.054849</td>\n",
              "      <td>-0.598927</td>\n",
              "      <td>0.155155</td>\n",
              "      <td>0.834569</td>\n",
              "      <td>-0.255603</td>\n",
              "      <td>-0.061531</td>\n",
              "      <td>0.911269</td>\n",
              "      <td>1.410653</td>\n",
              "      <td>89.832207</td>\n",
              "    </tr>\n",
              "    <tr>\n",
              "      <th>2</th>\n",
              "      <td>-1.395318</td>\n",
              "      <td>-1.395318</td>\n",
              "      <td>-1.497735</td>\n",
              "      <td>1.189209</td>\n",
              "      <td>1.623418</td>\n",
              "      <td>1.276534</td>\n",
              "      <td>0.540494</td>\n",
              "      <td>-0.823721</td>\n",
              "      <td>-1.101047</td>\n",
              "      <td>-1.117509</td>\n",
              "      <td>...</td>\n",
              "      <td>-1.096010</td>\n",
              "      <td>-0.316150</td>\n",
              "      <td>-0.960803</td>\n",
              "      <td>-0.179763</td>\n",
              "      <td>0.803736</td>\n",
              "      <td>-0.538928</td>\n",
              "      <td>-0.217730</td>\n",
              "      <td>-0.026946</td>\n",
              "      <td>0.252308</td>\n",
              "      <td>88.550074</td>\n",
              "    </tr>\n",
              "    <tr>\n",
              "      <th>3</th>\n",
              "      <td>-1.395318</td>\n",
              "      <td>-1.395318</td>\n",
              "      <td>-1.497735</td>\n",
              "      <td>1.331988</td>\n",
              "      <td>1.718668</td>\n",
              "      <td>1.042794</td>\n",
              "      <td>0.491342</td>\n",
              "      <td>-0.556706</td>\n",
              "      <td>-0.955190</td>\n",
              "      <td>-1.076697</td>\n",
              "      <td>...</td>\n",
              "      <td>-1.053195</td>\n",
              "      <td>-0.363480</td>\n",
              "      <td>-0.956681</td>\n",
              "      <td>-0.481577</td>\n",
              "      <td>0.686763</td>\n",
              "      <td>-0.415011</td>\n",
              "      <td>-0.279998</td>\n",
              "      <td>-0.032110</td>\n",
              "      <td>0.062582</td>\n",
              "      <td>86.504126</td>\n",
              "    </tr>\n",
              "    <tr>\n",
              "      <th>4</th>\n",
              "      <td>-1.395318</td>\n",
              "      <td>-1.395318</td>\n",
              "      <td>-1.497735</td>\n",
              "      <td>0.848363</td>\n",
              "      <td>1.368945</td>\n",
              "      <td>0.782901</td>\n",
              "      <td>0.301494</td>\n",
              "      <td>-0.673475</td>\n",
              "      <td>-1.054812</td>\n",
              "      <td>-1.108233</td>\n",
              "      <td>...</td>\n",
              "      <td>-1.075165</td>\n",
              "      <td>-0.520888</td>\n",
              "      <td>-0.903484</td>\n",
              "      <td>-0.606413</td>\n",
              "      <td>0.642296</td>\n",
              "      <td>-0.399747</td>\n",
              "      <td>-0.429928</td>\n",
              "      <td>-0.053323</td>\n",
              "      <td>-0.022116</td>\n",
              "      <td>85.654894</td>\n",
              "    </tr>\n",
              "  </tbody>\n",
              "</table>\n",
              "<p>5 rows × 111 columns</p>\n",
              "</div>\n",
              "    <div class=\"colab-df-buttons\">\n",
              "\n",
              "  <div class=\"colab-df-container\">\n",
              "    <button class=\"colab-df-convert\" onclick=\"convertToInteractive('df-8aba6448-3ba6-4080-862e-90bb34192fa8')\"\n",
              "            title=\"Convert this dataframe to an interactive table.\"\n",
              "            style=\"display:none;\">\n",
              "\n",
              "  <svg xmlns=\"http://www.w3.org/2000/svg\" height=\"24px\" viewBox=\"0 -960 960 960\">\n",
              "    <path d=\"M120-120v-720h720v720H120Zm60-500h600v-160H180v160Zm220 220h160v-160H400v160Zm0 220h160v-160H400v160ZM180-400h160v-160H180v160Zm440 0h160v-160H620v160ZM180-180h160v-160H180v160Zm440 0h160v-160H620v160Z\"/>\n",
              "  </svg>\n",
              "    </button>\n",
              "\n",
              "  <style>\n",
              "    .colab-df-container {\n",
              "      display:flex;\n",
              "      gap: 12px;\n",
              "    }\n",
              "\n",
              "    .colab-df-convert {\n",
              "      background-color: #E8F0FE;\n",
              "      border: none;\n",
              "      border-radius: 50%;\n",
              "      cursor: pointer;\n",
              "      display: none;\n",
              "      fill: #1967D2;\n",
              "      height: 32px;\n",
              "      padding: 0 0 0 0;\n",
              "      width: 32px;\n",
              "    }\n",
              "\n",
              "    .colab-df-convert:hover {\n",
              "      background-color: #E2EBFA;\n",
              "      box-shadow: 0px 1px 2px rgba(60, 64, 67, 0.3), 0px 1px 3px 1px rgba(60, 64, 67, 0.15);\n",
              "      fill: #174EA6;\n",
              "    }\n",
              "\n",
              "    .colab-df-buttons div {\n",
              "      margin-bottom: 4px;\n",
              "    }\n",
              "\n",
              "    [theme=dark] .colab-df-convert {\n",
              "      background-color: #3B4455;\n",
              "      fill: #D2E3FC;\n",
              "    }\n",
              "\n",
              "    [theme=dark] .colab-df-convert:hover {\n",
              "      background-color: #434B5C;\n",
              "      box-shadow: 0px 1px 3px 1px rgba(0, 0, 0, 0.15);\n",
              "      filter: drop-shadow(0px 1px 2px rgba(0, 0, 0, 0.3));\n",
              "      fill: #FFFFFF;\n",
              "    }\n",
              "  </style>\n",
              "\n",
              "    <script>\n",
              "      const buttonEl =\n",
              "        document.querySelector('#df-8aba6448-3ba6-4080-862e-90bb34192fa8 button.colab-df-convert');\n",
              "      buttonEl.style.display =\n",
              "        google.colab.kernel.accessAllowed ? 'block' : 'none';\n",
              "\n",
              "      async function convertToInteractive(key) {\n",
              "        const element = document.querySelector('#df-8aba6448-3ba6-4080-862e-90bb34192fa8');\n",
              "        const dataTable =\n",
              "          await google.colab.kernel.invokeFunction('convertToInteractive',\n",
              "                                                    [key], {});\n",
              "        if (!dataTable) return;\n",
              "\n",
              "        const docLinkHtml = 'Like what you see? Visit the ' +\n",
              "          '<a target=\"_blank\" href=https://colab.research.google.com/notebooks/data_table.ipynb>data table notebook</a>'\n",
              "          + ' to learn more about interactive tables.';\n",
              "        element.innerHTML = '';\n",
              "        dataTable['output_type'] = 'display_data';\n",
              "        await google.colab.output.renderOutput(dataTable, element);\n",
              "        const docLink = document.createElement('div');\n",
              "        docLink.innerHTML = docLinkHtml;\n",
              "        element.appendChild(docLink);\n",
              "      }\n",
              "    </script>\n",
              "  </div>\n",
              "\n",
              "\n",
              "<div id=\"df-a7a76708-ff33-4408-be6f-1e71b33ce84b\">\n",
              "  <button class=\"colab-df-quickchart\" onclick=\"quickchart('df-a7a76708-ff33-4408-be6f-1e71b33ce84b')\"\n",
              "            title=\"Suggest charts\"\n",
              "            style=\"display:none;\">\n",
              "\n",
              "<svg xmlns=\"http://www.w3.org/2000/svg\" height=\"24px\"viewBox=\"0 0 24 24\"\n",
              "     width=\"24px\">\n",
              "    <g>\n",
              "        <path d=\"M19 3H5c-1.1 0-2 .9-2 2v14c0 1.1.9 2 2 2h14c1.1 0 2-.9 2-2V5c0-1.1-.9-2-2-2zM9 17H7v-7h2v7zm4 0h-2V7h2v10zm4 0h-2v-4h2v4z\"/>\n",
              "    </g>\n",
              "</svg>\n",
              "  </button>\n",
              "\n",
              "<style>\n",
              "  .colab-df-quickchart {\n",
              "      --bg-color: #E8F0FE;\n",
              "      --fill-color: #1967D2;\n",
              "      --hover-bg-color: #E2EBFA;\n",
              "      --hover-fill-color: #174EA6;\n",
              "      --disabled-fill-color: #AAA;\n",
              "      --disabled-bg-color: #DDD;\n",
              "  }\n",
              "\n",
              "  [theme=dark] .colab-df-quickchart {\n",
              "      --bg-color: #3B4455;\n",
              "      --fill-color: #D2E3FC;\n",
              "      --hover-bg-color: #434B5C;\n",
              "      --hover-fill-color: #FFFFFF;\n",
              "      --disabled-bg-color: #3B4455;\n",
              "      --disabled-fill-color: #666;\n",
              "  }\n",
              "\n",
              "  .colab-df-quickchart {\n",
              "    background-color: var(--bg-color);\n",
              "    border: none;\n",
              "    border-radius: 50%;\n",
              "    cursor: pointer;\n",
              "    display: none;\n",
              "    fill: var(--fill-color);\n",
              "    height: 32px;\n",
              "    padding: 0;\n",
              "    width: 32px;\n",
              "  }\n",
              "\n",
              "  .colab-df-quickchart:hover {\n",
              "    background-color: var(--hover-bg-color);\n",
              "    box-shadow: 0 1px 2px rgba(60, 64, 67, 0.3), 0 1px 3px 1px rgba(60, 64, 67, 0.15);\n",
              "    fill: var(--button-hover-fill-color);\n",
              "  }\n",
              "\n",
              "  .colab-df-quickchart-complete:disabled,\n",
              "  .colab-df-quickchart-complete:disabled:hover {\n",
              "    background-color: var(--disabled-bg-color);\n",
              "    fill: var(--disabled-fill-color);\n",
              "    box-shadow: none;\n",
              "  }\n",
              "\n",
              "  .colab-df-spinner {\n",
              "    border: 2px solid var(--fill-color);\n",
              "    border-color: transparent;\n",
              "    border-bottom-color: var(--fill-color);\n",
              "    animation:\n",
              "      spin 1s steps(1) infinite;\n",
              "  }\n",
              "\n",
              "  @keyframes spin {\n",
              "    0% {\n",
              "      border-color: transparent;\n",
              "      border-bottom-color: var(--fill-color);\n",
              "      border-left-color: var(--fill-color);\n",
              "    }\n",
              "    20% {\n",
              "      border-color: transparent;\n",
              "      border-left-color: var(--fill-color);\n",
              "      border-top-color: var(--fill-color);\n",
              "    }\n",
              "    30% {\n",
              "      border-color: transparent;\n",
              "      border-left-color: var(--fill-color);\n",
              "      border-top-color: var(--fill-color);\n",
              "      border-right-color: var(--fill-color);\n",
              "    }\n",
              "    40% {\n",
              "      border-color: transparent;\n",
              "      border-right-color: var(--fill-color);\n",
              "      border-top-color: var(--fill-color);\n",
              "    }\n",
              "    60% {\n",
              "      border-color: transparent;\n",
              "      border-right-color: var(--fill-color);\n",
              "    }\n",
              "    80% {\n",
              "      border-color: transparent;\n",
              "      border-right-color: var(--fill-color);\n",
              "      border-bottom-color: var(--fill-color);\n",
              "    }\n",
              "    90% {\n",
              "      border-color: transparent;\n",
              "      border-bottom-color: var(--fill-color);\n",
              "    }\n",
              "  }\n",
              "</style>\n",
              "\n",
              "  <script>\n",
              "    async function quickchart(key) {\n",
              "      const quickchartButtonEl =\n",
              "        document.querySelector('#' + key + ' button');\n",
              "      quickchartButtonEl.disabled = true;  // To prevent multiple clicks.\n",
              "      quickchartButtonEl.classList.add('colab-df-spinner');\n",
              "      try {\n",
              "        const charts = await google.colab.kernel.invokeFunction(\n",
              "            'suggestCharts', [key], {});\n",
              "      } catch (error) {\n",
              "        console.error('Error during call to suggestCharts:', error);\n",
              "      }\n",
              "      quickchartButtonEl.classList.remove('colab-df-spinner');\n",
              "      quickchartButtonEl.classList.add('colab-df-quickchart-complete');\n",
              "    }\n",
              "    (() => {\n",
              "      let quickchartButtonEl =\n",
              "        document.querySelector('#df-a7a76708-ff33-4408-be6f-1e71b33ce84b button');\n",
              "      quickchartButtonEl.style.display =\n",
              "        google.colab.kernel.accessAllowed ? 'block' : 'none';\n",
              "    })();\n",
              "  </script>\n",
              "</div>\n",
              "\n",
              "  <div id=\"id_09718016-0a6f-486b-b98e-41c8cbc10d23\">\n",
              "    <style>\n",
              "      .colab-df-generate {\n",
              "        background-color: #E8F0FE;\n",
              "        border: none;\n",
              "        border-radius: 50%;\n",
              "        cursor: pointer;\n",
              "        display: none;\n",
              "        fill: #1967D2;\n",
              "        height: 32px;\n",
              "        padding: 0 0 0 0;\n",
              "        width: 32px;\n",
              "      }\n",
              "\n",
              "      .colab-df-generate:hover {\n",
              "        background-color: #E2EBFA;\n",
              "        box-shadow: 0px 1px 2px rgba(60, 64, 67, 0.3), 0px 1px 3px 1px rgba(60, 64, 67, 0.15);\n",
              "        fill: #174EA6;\n",
              "      }\n",
              "\n",
              "      [theme=dark] .colab-df-generate {\n",
              "        background-color: #3B4455;\n",
              "        fill: #D2E3FC;\n",
              "      }\n",
              "\n",
              "      [theme=dark] .colab-df-generate:hover {\n",
              "        background-color: #434B5C;\n",
              "        box-shadow: 0px 1px 3px 1px rgba(0, 0, 0, 0.15);\n",
              "        filter: drop-shadow(0px 1px 2px rgba(0, 0, 0, 0.3));\n",
              "        fill: #FFFFFF;\n",
              "      }\n",
              "    </style>\n",
              "    <button class=\"colab-df-generate\" onclick=\"generateWithVariable('normalized_data_head')\"\n",
              "            title=\"Generate code using this dataframe.\"\n",
              "            style=\"display:none;\">\n",
              "\n",
              "  <svg xmlns=\"http://www.w3.org/2000/svg\" height=\"24px\"viewBox=\"0 0 24 24\"\n",
              "       width=\"24px\">\n",
              "    <path d=\"M7,19H8.4L18.45,9,17,7.55,7,17.6ZM5,21V16.75L18.45,3.32a2,2,0,0,1,2.83,0l1.4,1.43a1.91,1.91,0,0,1,.58,1.4,1.91,1.91,0,0,1-.58,1.4L9.25,21ZM18.45,9,17,7.55Zm-12,3A5.31,5.31,0,0,0,4.9,8.1,5.31,5.31,0,0,0,1,6.5,5.31,5.31,0,0,0,4.9,4.9,5.31,5.31,0,0,0,6.5,1,5.31,5.31,0,0,0,8.1,4.9,5.31,5.31,0,0,0,12,6.5,5.46,5.46,0,0,0,6.5,12Z\"/>\n",
              "  </svg>\n",
              "    </button>\n",
              "    <script>\n",
              "      (() => {\n",
              "      const buttonEl =\n",
              "        document.querySelector('#id_09718016-0a6f-486b-b98e-41c8cbc10d23 button.colab-df-generate');\n",
              "      buttonEl.style.display =\n",
              "        google.colab.kernel.accessAllowed ? 'block' : 'none';\n",
              "\n",
              "      buttonEl.onclick = () => {\n",
              "        google.colab.notebook.generateWithVariable('normalized_data_head');\n",
              "      }\n",
              "      })();\n",
              "    </script>\n",
              "  </div>\n",
              "\n",
              "    </div>\n",
              "  </div>\n"
            ],
            "application/vnd.google.colaboratory.intrinsic+json": {
              "type": "dataframe",
              "variable_name": "normalized_data_head"
            }
          },
          "metadata": {},
          "execution_count": 10
        }
      ]
    },
    {
      "cell_type": "code",
      "source": [
        "from sklearn.decomposition import PCA\n",
        "from sklearn.model_selection import train_test_split\n",
        "\n",
        "# Dive the normalized data to use PCa on features.\n",
        "X = normalized_data.drop(columns=['target']) ## we don't need target value in pca\n",
        "y = normalized_data['target']\n",
        "\n",
        "# Apply PCA to the normalized data\n",
        "pca = PCA(n_components=0.95)  # Retain 95% of the variance\n",
        "X_pca = pca.fit_transform(X)\n",
        "\n",
        "# Check the number of components selected\n",
        "n_components = X_pca.shape[1]\n",
        "print(f\"Number of components selected with PCA: {n_components}\")\n",
        "\n",
        "\n"
      ],
      "metadata": {
        "colab": {
          "base_uri": "https://localhost:8080/"
        },
        "id": "YM2kOUccWeCL",
        "outputId": "2d581cbf-dfe0-47fa-c3c8-88215f7f26d0"
      },
      "execution_count": null,
      "outputs": [
        {
          "output_type": "stream",
          "name": "stdout",
          "text": [
            "Number of components selected with PCA: 45\n"
          ]
        }
      ]
    },
    {
      "cell_type": "markdown",
      "source": [
        "**Create Train and Test Samples**"
      ],
      "metadata": {
        "id": "_v8uhL2oB8rC"
      }
    },
    {
      "cell_type": "code",
      "source": [
        "# Split the PCA-transformed data into training and testing sets\n",
        "X_train_pca, X_test_pca, y_train, y_test = train_test_split(X_pca, y, test_size=0.2, random_state=42)\n",
        "y_test = y_test.reset_index(drop=True)  # Reset index to align with output of predictions later\n",
        "\n",
        "\n",
        "# Check the shapes of the resulting datasets\n",
        "X_train_shape = X_train_pca.shape\n",
        "X_test_shape = X_test_pca.shape\n",
        "y_train_shape = y_train.shape\n",
        "y_test_shape = y_test.shape\n",
        "\n",
        "X_train_shape, X_test_shape, y_train_shape, y_test_shape"
      ],
      "metadata": {
        "colab": {
          "base_uri": "https://localhost:8080/"
        },
        "id": "V9UGBeT32tkW",
        "outputId": "71865b2e-417c-48b7-a7bc-7d2edbd44a82"
      },
      "execution_count": null,
      "outputs": [
        {
          "output_type": "execute_result",
          "data": {
            "text/plain": [
              "((5304, 45), (1326, 45), (5304,), (1326,))"
            ]
          },
          "metadata": {},
          "execution_count": 12
        }
      ]
    },
    {
      "cell_type": "markdown",
      "source": [
        "**Movel Development with MLP**"
      ],
      "metadata": {
        "id": "_cqyJC01CGBF"
      }
    },
    {
      "cell_type": "code",
      "source": [
        "from keras.models import Sequential\n",
        "from keras.layers import Dense\n",
        "\n",
        "# Define the MLP model\n",
        "model = Sequential()\n",
        "\n",
        "# Input layer and first hidden layer\n",
        "model.add(Dense(units=64, input_dim=45, activation='relu'))  # PCA gives us 45 features\n",
        "\n",
        "# Second hidden layer\n",
        "model.add(Dense(units=32, activation='relu'))\n",
        "\n",
        "# Third hidden layer\n",
        "model.add(Dense(units=16, activation='relu'))\n",
        "\n",
        "# Output layer\n",
        "model.add(Dense(units=1))  # Single output for regression\n",
        "\n",
        "# Compile the model\n",
        "model.compile(optimizer='adam', loss='mean_squared_error', metrics=['mean_absolute_error'])\n",
        "\n",
        "# Display the model summary\n",
        "model_summary = model.summary()\n",
        "\n",
        "model_summary\n"
      ],
      "metadata": {
        "colab": {
          "base_uri": "https://localhost:8080/",
          "height": 327
        },
        "id": "bRtjzdFu29KO",
        "outputId": "0eb14cf5-e239-4351-8275-e1c8f0019861"
      },
      "execution_count": null,
      "outputs": [
        {
          "output_type": "stream",
          "name": "stderr",
          "text": [
            "/usr/local/lib/python3.10/dist-packages/keras/src/layers/core/dense.py:87: UserWarning: Do not pass an `input_shape`/`input_dim` argument to a layer. When using Sequential models, prefer using an `Input(shape)` object as the first layer in the model instead.\n",
            "  super().__init__(activity_regularizer=activity_regularizer, **kwargs)\n"
          ]
        },
        {
          "output_type": "display_data",
          "data": {
            "text/plain": [
              "\u001b[1mModel: \"sequential\"\u001b[0m\n"
            ],
            "text/html": [
              "<pre style=\"white-space:pre;overflow-x:auto;line-height:normal;font-family:Menlo,'DejaVu Sans Mono',consolas,'Courier New',monospace\"><span style=\"font-weight: bold\">Model: \"sequential\"</span>\n",
              "</pre>\n"
            ]
          },
          "metadata": {}
        },
        {
          "output_type": "display_data",
          "data": {
            "text/plain": [
              "┏━━━━━━━━━━━━━━━━━━━━━━━━━━━━━━━━━━━━━━┳━━━━━━━━━━━━━━━━━━━━━━━━━━━━━┳━━━━━━━━━━━━━━━━━┓\n",
              "┃\u001b[1m \u001b[0m\u001b[1mLayer (type)                        \u001b[0m\u001b[1m \u001b[0m┃\u001b[1m \u001b[0m\u001b[1mOutput Shape               \u001b[0m\u001b[1m \u001b[0m┃\u001b[1m \u001b[0m\u001b[1m        Param #\u001b[0m\u001b[1m \u001b[0m┃\n",
              "┡━━━━━━━━━━━━━━━━━━━━━━━━━━━━━━━━━━━━━━╇━━━━━━━━━━━━━━━━━━━━━━━━━━━━━╇━━━━━━━━━━━━━━━━━┩\n",
              "│ dense (\u001b[38;5;33mDense\u001b[0m)                        │ (\u001b[38;5;45mNone\u001b[0m, \u001b[38;5;34m64\u001b[0m)                  │           \u001b[38;5;34m2,944\u001b[0m │\n",
              "├──────────────────────────────────────┼─────────────────────────────┼─────────────────┤\n",
              "│ dense_1 (\u001b[38;5;33mDense\u001b[0m)                      │ (\u001b[38;5;45mNone\u001b[0m, \u001b[38;5;34m32\u001b[0m)                  │           \u001b[38;5;34m2,080\u001b[0m │\n",
              "├──────────────────────────────────────┼─────────────────────────────┼─────────────────┤\n",
              "│ dense_2 (\u001b[38;5;33mDense\u001b[0m)                      │ (\u001b[38;5;45mNone\u001b[0m, \u001b[38;5;34m16\u001b[0m)                  │             \u001b[38;5;34m528\u001b[0m │\n",
              "├──────────────────────────────────────┼─────────────────────────────┼─────────────────┤\n",
              "│ dense_3 (\u001b[38;5;33mDense\u001b[0m)                      │ (\u001b[38;5;45mNone\u001b[0m, \u001b[38;5;34m1\u001b[0m)                   │              \u001b[38;5;34m17\u001b[0m │\n",
              "└──────────────────────────────────────┴─────────────────────────────┴─────────────────┘\n"
            ],
            "text/html": [
              "<pre style=\"white-space:pre;overflow-x:auto;line-height:normal;font-family:Menlo,'DejaVu Sans Mono',consolas,'Courier New',monospace\">┏━━━━━━━━━━━━━━━━━━━━━━━━━━━━━━━━━━━━━━┳━━━━━━━━━━━━━━━━━━━━━━━━━━━━━┳━━━━━━━━━━━━━━━━━┓\n",
              "┃<span style=\"font-weight: bold\"> Layer (type)                         </span>┃<span style=\"font-weight: bold\"> Output Shape                </span>┃<span style=\"font-weight: bold\">         Param # </span>┃\n",
              "┡━━━━━━━━━━━━━━━━━━━━━━━━━━━━━━━━━━━━━━╇━━━━━━━━━━━━━━━━━━━━━━━━━━━━━╇━━━━━━━━━━━━━━━━━┩\n",
              "│ dense (<span style=\"color: #0087ff; text-decoration-color: #0087ff\">Dense</span>)                        │ (<span style=\"color: #00d7ff; text-decoration-color: #00d7ff\">None</span>, <span style=\"color: #00af00; text-decoration-color: #00af00\">64</span>)                  │           <span style=\"color: #00af00; text-decoration-color: #00af00\">2,944</span> │\n",
              "├──────────────────────────────────────┼─────────────────────────────┼─────────────────┤\n",
              "│ dense_1 (<span style=\"color: #0087ff; text-decoration-color: #0087ff\">Dense</span>)                      │ (<span style=\"color: #00d7ff; text-decoration-color: #00d7ff\">None</span>, <span style=\"color: #00af00; text-decoration-color: #00af00\">32</span>)                  │           <span style=\"color: #00af00; text-decoration-color: #00af00\">2,080</span> │\n",
              "├──────────────────────────────────────┼─────────────────────────────┼─────────────────┤\n",
              "│ dense_2 (<span style=\"color: #0087ff; text-decoration-color: #0087ff\">Dense</span>)                      │ (<span style=\"color: #00d7ff; text-decoration-color: #00d7ff\">None</span>, <span style=\"color: #00af00; text-decoration-color: #00af00\">16</span>)                  │             <span style=\"color: #00af00; text-decoration-color: #00af00\">528</span> │\n",
              "├──────────────────────────────────────┼─────────────────────────────┼─────────────────┤\n",
              "│ dense_3 (<span style=\"color: #0087ff; text-decoration-color: #0087ff\">Dense</span>)                      │ (<span style=\"color: #00d7ff; text-decoration-color: #00d7ff\">None</span>, <span style=\"color: #00af00; text-decoration-color: #00af00\">1</span>)                   │              <span style=\"color: #00af00; text-decoration-color: #00af00\">17</span> │\n",
              "└──────────────────────────────────────┴─────────────────────────────┴─────────────────┘\n",
              "</pre>\n"
            ]
          },
          "metadata": {}
        },
        {
          "output_type": "display_data",
          "data": {
            "text/plain": [
              "\u001b[1m Total params: \u001b[0m\u001b[38;5;34m5,569\u001b[0m (21.75 KB)\n"
            ],
            "text/html": [
              "<pre style=\"white-space:pre;overflow-x:auto;line-height:normal;font-family:Menlo,'DejaVu Sans Mono',consolas,'Courier New',monospace\"><span style=\"font-weight: bold\"> Total params: </span><span style=\"color: #00af00; text-decoration-color: #00af00\">5,569</span> (21.75 KB)\n",
              "</pre>\n"
            ]
          },
          "metadata": {}
        },
        {
          "output_type": "display_data",
          "data": {
            "text/plain": [
              "\u001b[1m Trainable params: \u001b[0m\u001b[38;5;34m5,569\u001b[0m (21.75 KB)\n"
            ],
            "text/html": [
              "<pre style=\"white-space:pre;overflow-x:auto;line-height:normal;font-family:Menlo,'DejaVu Sans Mono',consolas,'Courier New',monospace\"><span style=\"font-weight: bold\"> Trainable params: </span><span style=\"color: #00af00; text-decoration-color: #00af00\">5,569</span> (21.75 KB)\n",
              "</pre>\n"
            ]
          },
          "metadata": {}
        },
        {
          "output_type": "display_data",
          "data": {
            "text/plain": [
              "\u001b[1m Non-trainable params: \u001b[0m\u001b[38;5;34m0\u001b[0m (0.00 B)\n"
            ],
            "text/html": [
              "<pre style=\"white-space:pre;overflow-x:auto;line-height:normal;font-family:Menlo,'DejaVu Sans Mono',consolas,'Courier New',monospace\"><span style=\"font-weight: bold\"> Non-trainable params: </span><span style=\"color: #00af00; text-decoration-color: #00af00\">0</span> (0.00 B)\n",
              "</pre>\n"
            ]
          },
          "metadata": {}
        }
      ]
    },
    {
      "cell_type": "markdown",
      "source": [
        "**Model Training**"
      ],
      "metadata": {
        "id": "KjnJqasn3Sky"
      }
    },
    {
      "cell_type": "code",
      "source": [
        "# Train the model with the training data\n",
        "history = model.fit(X_train_pca, y_train,\n",
        "                    validation_split=0.2,    # Reserve 20% of the training data for validation\n",
        "                    epochs=50,               # Number of epochs to train\n",
        "                    batch_size=32,           # Batch size for each gradient update\n",
        "                    verbose=1)               # Verbosity mode\n"
      ],
      "metadata": {
        "colab": {
          "base_uri": "https://localhost:8080/"
        },
        "id": "le2Daw9b3VQ5",
        "outputId": "35cf1752-4a74-4088-a952-8d0113d57939"
      },
      "execution_count": null,
      "outputs": [
        {
          "output_type": "stream",
          "name": "stdout",
          "text": [
            "Epoch 1/50\n",
            "\u001b[1m133/133\u001b[0m \u001b[32m━━━━━━━━━━━━━━━━━━━━\u001b[0m\u001b[37m\u001b[0m \u001b[1m2s\u001b[0m 4ms/step - loss: 4921.3037 - mean_absolute_error: 66.5208 - val_loss: 74.3982 - val_mean_absolute_error: 6.8769\n",
            "Epoch 2/50\n",
            "\u001b[1m133/133\u001b[0m \u001b[32m━━━━━━━━━━━━━━━━━━━━\u001b[0m\u001b[37m\u001b[0m \u001b[1m0s\u001b[0m 2ms/step - loss: 58.3194 - mean_absolute_error: 5.9577 - val_loss: 34.4202 - val_mean_absolute_error: 4.4129\n",
            "Epoch 3/50\n",
            "\u001b[1m133/133\u001b[0m \u001b[32m━━━━━━━━━━━━━━━━━━━━\u001b[0m\u001b[37m\u001b[0m \u001b[1m0s\u001b[0m 3ms/step - loss: 31.0725 - mean_absolute_error: 4.1905 - val_loss: 23.0150 - val_mean_absolute_error: 3.6275\n",
            "Epoch 4/50\n",
            "\u001b[1m133/133\u001b[0m \u001b[32m━━━━━━━━━━━━━━━━━━━━\u001b[0m\u001b[37m\u001b[0m \u001b[1m1s\u001b[0m 2ms/step - loss: 20.8464 - mean_absolute_error: 3.4309 - val_loss: 17.2974 - val_mean_absolute_error: 3.1951\n",
            "Epoch 5/50\n",
            "\u001b[1m133/133\u001b[0m \u001b[32m━━━━━━━━━━━━━━━━━━━━\u001b[0m\u001b[37m\u001b[0m \u001b[1m1s\u001b[0m 3ms/step - loss: 15.7290 - mean_absolute_error: 3.0067 - val_loss: 13.6830 - val_mean_absolute_error: 2.8261\n",
            "Epoch 6/50\n",
            "\u001b[1m133/133\u001b[0m \u001b[32m━━━━━━━━━━━━━━━━━━━━\u001b[0m\u001b[37m\u001b[0m \u001b[1m0s\u001b[0m 3ms/step - loss: 11.2324 - mean_absolute_error: 2.5638 - val_loss: 12.0806 - val_mean_absolute_error: 2.6674\n",
            "Epoch 7/50\n",
            "\u001b[1m133/133\u001b[0m \u001b[32m━━━━━━━━━━━━━━━━━━━━\u001b[0m\u001b[37m\u001b[0m \u001b[1m1s\u001b[0m 3ms/step - loss: 9.8712 - mean_absolute_error: 2.4282 - val_loss: 10.4829 - val_mean_absolute_error: 2.5096\n",
            "Epoch 8/50\n",
            "\u001b[1m133/133\u001b[0m \u001b[32m━━━━━━━━━━━━━━━━━━━━\u001b[0m\u001b[37m\u001b[0m \u001b[1m1s\u001b[0m 4ms/step - loss: 8.4978 - mean_absolute_error: 2.2641 - val_loss: 9.1597 - val_mean_absolute_error: 2.3460\n",
            "Epoch 9/50\n",
            "\u001b[1m133/133\u001b[0m \u001b[32m━━━━━━━━━━━━━━━━━━━━\u001b[0m\u001b[37m\u001b[0m \u001b[1m1s\u001b[0m 5ms/step - loss: 7.1158 - mean_absolute_error: 2.0740 - val_loss: 8.2211 - val_mean_absolute_error: 2.1846\n",
            "Epoch 10/50\n",
            "\u001b[1m133/133\u001b[0m \u001b[32m━━━━━━━━━━━━━━━━━━━━\u001b[0m\u001b[37m\u001b[0m \u001b[1m1s\u001b[0m 5ms/step - loss: 6.7997 - mean_absolute_error: 2.0303 - val_loss: 7.7949 - val_mean_absolute_error: 2.1419\n",
            "Epoch 11/50\n",
            "\u001b[1m133/133\u001b[0m \u001b[32m━━━━━━━━━━━━━━━━━━━━\u001b[0m\u001b[37m\u001b[0m \u001b[1m1s\u001b[0m 5ms/step - loss: 6.0097 - mean_absolute_error: 1.9088 - val_loss: 7.0194 - val_mean_absolute_error: 2.0423\n",
            "Epoch 12/50\n",
            "\u001b[1m133/133\u001b[0m \u001b[32m━━━━━━━━━━━━━━━━━━━━\u001b[0m\u001b[37m\u001b[0m \u001b[1m1s\u001b[0m 4ms/step - loss: 5.3060 - mean_absolute_error: 1.7956 - val_loss: 6.7499 - val_mean_absolute_error: 1.9866\n",
            "Epoch 13/50\n",
            "\u001b[1m133/133\u001b[0m \u001b[32m━━━━━━━━━━━━━━━━━━━━\u001b[0m\u001b[37m\u001b[0m \u001b[1m1s\u001b[0m 6ms/step - loss: 5.0319 - mean_absolute_error: 1.7365 - val_loss: 6.2836 - val_mean_absolute_error: 1.9088\n",
            "Epoch 14/50\n",
            "\u001b[1m133/133\u001b[0m \u001b[32m━━━━━━━━━━━━━━━━━━━━\u001b[0m\u001b[37m\u001b[0m \u001b[1m1s\u001b[0m 3ms/step - loss: 4.8814 - mean_absolute_error: 1.7207 - val_loss: 6.0591 - val_mean_absolute_error: 1.8764\n",
            "Epoch 15/50\n",
            "\u001b[1m133/133\u001b[0m \u001b[32m━━━━━━━━━━━━━━━━━━━━\u001b[0m\u001b[37m\u001b[0m \u001b[1m0s\u001b[0m 3ms/step - loss: 4.5317 - mean_absolute_error: 1.6457 - val_loss: 5.7766 - val_mean_absolute_error: 1.8495\n",
            "Epoch 16/50\n",
            "\u001b[1m133/133\u001b[0m \u001b[32m━━━━━━━━━━━━━━━━━━━━\u001b[0m\u001b[37m\u001b[0m \u001b[1m0s\u001b[0m 3ms/step - loss: 4.2217 - mean_absolute_error: 1.6177 - val_loss: 5.6623 - val_mean_absolute_error: 1.8260\n",
            "Epoch 17/50\n",
            "\u001b[1m133/133\u001b[0m \u001b[32m━━━━━━━━━━━━━━━━━━━━\u001b[0m\u001b[37m\u001b[0m \u001b[1m0s\u001b[0m 3ms/step - loss: 4.0379 - mean_absolute_error: 1.5930 - val_loss: 5.1693 - val_mean_absolute_error: 1.7457\n",
            "Epoch 18/50\n",
            "\u001b[1m133/133\u001b[0m \u001b[32m━━━━━━━━━━━━━━━━━━━━\u001b[0m\u001b[37m\u001b[0m \u001b[1m1s\u001b[0m 3ms/step - loss: 3.8898 - mean_absolute_error: 1.5308 - val_loss: 5.2620 - val_mean_absolute_error: 1.7651\n",
            "Epoch 19/50\n",
            "\u001b[1m133/133\u001b[0m \u001b[32m━━━━━━━━━━━━━━━━━━━━\u001b[0m\u001b[37m\u001b[0m \u001b[1m0s\u001b[0m 3ms/step - loss: 3.4933 - mean_absolute_error: 1.4668 - val_loss: 5.0012 - val_mean_absolute_error: 1.7130\n",
            "Epoch 20/50\n",
            "\u001b[1m133/133\u001b[0m \u001b[32m━━━━━━━━━━━━━━━━━━━━\u001b[0m\u001b[37m\u001b[0m \u001b[1m0s\u001b[0m 3ms/step - loss: 3.5217 - mean_absolute_error: 1.4640 - val_loss: 4.7245 - val_mean_absolute_error: 1.6637\n",
            "Epoch 21/50\n",
            "\u001b[1m133/133\u001b[0m \u001b[32m━━━━━━━━━━━━━━━━━━━━\u001b[0m\u001b[37m\u001b[0m \u001b[1m0s\u001b[0m 3ms/step - loss: 3.2105 - mean_absolute_error: 1.4028 - val_loss: 4.7717 - val_mean_absolute_error: 1.6940\n",
            "Epoch 22/50\n",
            "\u001b[1m133/133\u001b[0m \u001b[32m━━━━━━━━━━━━━━━━━━━━\u001b[0m\u001b[37m\u001b[0m \u001b[1m0s\u001b[0m 3ms/step - loss: 3.2710 - mean_absolute_error: 1.4168 - val_loss: 4.6320 - val_mean_absolute_error: 1.6532\n",
            "Epoch 23/50\n",
            "\u001b[1m133/133\u001b[0m \u001b[32m━━━━━━━━━━━━━━━━━━━━\u001b[0m\u001b[37m\u001b[0m \u001b[1m1s\u001b[0m 3ms/step - loss: 3.1192 - mean_absolute_error: 1.3861 - val_loss: 4.6669 - val_mean_absolute_error: 1.6597\n",
            "Epoch 24/50\n",
            "\u001b[1m133/133\u001b[0m \u001b[32m━━━━━━━━━━━━━━━━━━━━\u001b[0m\u001b[37m\u001b[0m \u001b[1m1s\u001b[0m 4ms/step - loss: 2.8628 - mean_absolute_error: 1.3170 - val_loss: 4.7005 - val_mean_absolute_error: 1.6903\n",
            "Epoch 25/50\n",
            "\u001b[1m133/133\u001b[0m \u001b[32m━━━━━━━━━━━━━━━━━━━━\u001b[0m\u001b[37m\u001b[0m \u001b[1m1s\u001b[0m 4ms/step - loss: 2.8686 - mean_absolute_error: 1.3424 - val_loss: 4.3537 - val_mean_absolute_error: 1.6045\n",
            "Epoch 26/50\n",
            "\u001b[1m133/133\u001b[0m \u001b[32m━━━━━━━━━━━━━━━━━━━━\u001b[0m\u001b[37m\u001b[0m \u001b[1m1s\u001b[0m 4ms/step - loss: 2.8858 - mean_absolute_error: 1.3370 - val_loss: 4.2718 - val_mean_absolute_error: 1.5863\n",
            "Epoch 27/50\n",
            "\u001b[1m133/133\u001b[0m \u001b[32m━━━━━━━━━━━━━━━━━━━━\u001b[0m\u001b[37m\u001b[0m \u001b[1m1s\u001b[0m 4ms/step - loss: 2.8079 - mean_absolute_error: 1.3152 - val_loss: 4.3199 - val_mean_absolute_error: 1.6015\n",
            "Epoch 28/50\n",
            "\u001b[1m133/133\u001b[0m \u001b[32m━━━━━━━━━━━━━━━━━━━━\u001b[0m\u001b[37m\u001b[0m \u001b[1m1s\u001b[0m 5ms/step - loss: 2.7807 - mean_absolute_error: 1.2945 - val_loss: 4.2478 - val_mean_absolute_error: 1.5960\n",
            "Epoch 29/50\n",
            "\u001b[1m133/133\u001b[0m \u001b[32m━━━━━━━━━━━━━━━━━━━━\u001b[0m\u001b[37m\u001b[0m \u001b[1m1s\u001b[0m 4ms/step - loss: 2.6009 - mean_absolute_error: 1.2659 - val_loss: 3.9457 - val_mean_absolute_error: 1.5344\n",
            "Epoch 30/50\n",
            "\u001b[1m133/133\u001b[0m \u001b[32m━━━━━━━━━━━━━━━━━━━━\u001b[0m\u001b[37m\u001b[0m \u001b[1m1s\u001b[0m 5ms/step - loss: 2.5098 - mean_absolute_error: 1.2397 - val_loss: 4.1479 - val_mean_absolute_error: 1.5552\n",
            "Epoch 31/50\n",
            "\u001b[1m133/133\u001b[0m \u001b[32m━━━━━━━━━━━━━━━━━━━━\u001b[0m\u001b[37m\u001b[0m \u001b[1m1s\u001b[0m 4ms/step - loss: 2.5121 - mean_absolute_error: 1.2446 - val_loss: 4.1450 - val_mean_absolute_error: 1.5843\n",
            "Epoch 32/50\n",
            "\u001b[1m133/133\u001b[0m \u001b[32m━━━━━━━━━━━━━━━━━━━━\u001b[0m\u001b[37m\u001b[0m \u001b[1m0s\u001b[0m 2ms/step - loss: 2.4473 - mean_absolute_error: 1.2262 - val_loss: 3.9430 - val_mean_absolute_error: 1.5357\n",
            "Epoch 33/50\n",
            "\u001b[1m133/133\u001b[0m \u001b[32m━━━━━━━━━━━━━━━━━━━━\u001b[0m\u001b[37m\u001b[0m \u001b[1m0s\u001b[0m 2ms/step - loss: 2.4470 - mean_absolute_error: 1.2232 - val_loss: 3.9884 - val_mean_absolute_error: 1.5420\n",
            "Epoch 34/50\n",
            "\u001b[1m133/133\u001b[0m \u001b[32m━━━━━━━━━━━━━━━━━━━━\u001b[0m\u001b[37m\u001b[0m \u001b[1m1s\u001b[0m 3ms/step - loss: 2.4482 - mean_absolute_error: 1.2197 - val_loss: 3.8920 - val_mean_absolute_error: 1.5312\n",
            "Epoch 35/50\n",
            "\u001b[1m133/133\u001b[0m \u001b[32m━━━━━━━━━━━━━━━━━━━━\u001b[0m\u001b[37m\u001b[0m \u001b[1m1s\u001b[0m 2ms/step - loss: 2.2127 - mean_absolute_error: 1.1682 - val_loss: 3.8676 - val_mean_absolute_error: 1.5115\n",
            "Epoch 36/50\n",
            "\u001b[1m133/133\u001b[0m \u001b[32m━━━━━━━━━━━━━━━━━━━━\u001b[0m\u001b[37m\u001b[0m \u001b[1m1s\u001b[0m 2ms/step - loss: 2.2724 - mean_absolute_error: 1.1912 - val_loss: 3.8071 - val_mean_absolute_error: 1.5026\n",
            "Epoch 37/50\n",
            "\u001b[1m133/133\u001b[0m \u001b[32m━━━━━━━━━━━━━━━━━━━━\u001b[0m\u001b[37m\u001b[0m \u001b[1m1s\u001b[0m 3ms/step - loss: 2.2046 - mean_absolute_error: 1.1574 - val_loss: 4.1548 - val_mean_absolute_error: 1.5980\n",
            "Epoch 38/50\n",
            "\u001b[1m133/133\u001b[0m \u001b[32m━━━━━━━━━━━━━━━━━━━━\u001b[0m\u001b[37m\u001b[0m \u001b[1m1s\u001b[0m 2ms/step - loss: 2.1900 - mean_absolute_error: 1.1579 - val_loss: 3.8983 - val_mean_absolute_error: 1.5298\n",
            "Epoch 39/50\n",
            "\u001b[1m133/133\u001b[0m \u001b[32m━━━━━━━━━━━━━━━━━━━━\u001b[0m\u001b[37m\u001b[0m \u001b[1m1s\u001b[0m 2ms/step - loss: 2.1271 - mean_absolute_error: 1.1576 - val_loss: 3.8164 - val_mean_absolute_error: 1.5035\n",
            "Epoch 40/50\n",
            "\u001b[1m133/133\u001b[0m \u001b[32m━━━━━━━━━━━━━━━━━━━━\u001b[0m\u001b[37m\u001b[0m \u001b[1m1s\u001b[0m 2ms/step - loss: 2.3723 - mean_absolute_error: 1.2141 - val_loss: 3.4023 - val_mean_absolute_error: 1.4210\n",
            "Epoch 41/50\n",
            "\u001b[1m133/133\u001b[0m \u001b[32m━━━━━━━━━━━━━━━━━━━━\u001b[0m\u001b[37m\u001b[0m \u001b[1m1s\u001b[0m 2ms/step - loss: 1.9725 - mean_absolute_error: 1.1009 - val_loss: 3.6554 - val_mean_absolute_error: 1.4702\n",
            "Epoch 42/50\n",
            "\u001b[1m133/133\u001b[0m \u001b[32m━━━━━━━━━━━━━━━━━━━━\u001b[0m\u001b[37m\u001b[0m \u001b[1m0s\u001b[0m 2ms/step - loss: 1.9461 - mean_absolute_error: 1.1017 - val_loss: 3.6125 - val_mean_absolute_error: 1.4676\n",
            "Epoch 43/50\n",
            "\u001b[1m133/133\u001b[0m \u001b[32m━━━━━━━━━━━━━━━━━━━━\u001b[0m\u001b[37m\u001b[0m \u001b[1m1s\u001b[0m 2ms/step - loss: 1.8480 - mean_absolute_error: 1.0764 - val_loss: 3.6362 - val_mean_absolute_error: 1.4652\n",
            "Epoch 44/50\n",
            "\u001b[1m133/133\u001b[0m \u001b[32m━━━━━━━━━━━━━━━━━━━━\u001b[0m\u001b[37m\u001b[0m \u001b[1m1s\u001b[0m 2ms/step - loss: 1.8418 - mean_absolute_error: 1.0717 - val_loss: 3.7061 - val_mean_absolute_error: 1.4946\n",
            "Epoch 45/50\n",
            "\u001b[1m133/133\u001b[0m \u001b[32m━━━━━━━━━━━━━━━━━━━━\u001b[0m\u001b[37m\u001b[0m \u001b[1m0s\u001b[0m 2ms/step - loss: 1.9221 - mean_absolute_error: 1.0914 - val_loss: 3.4969 - val_mean_absolute_error: 1.4483\n",
            "Epoch 46/50\n",
            "\u001b[1m133/133\u001b[0m \u001b[32m━━━━━━━━━━━━━━━━━━━━\u001b[0m\u001b[37m\u001b[0m \u001b[1m1s\u001b[0m 2ms/step - loss: 1.7908 - mean_absolute_error: 1.0579 - val_loss: 3.3785 - val_mean_absolute_error: 1.4185\n",
            "Epoch 47/50\n",
            "\u001b[1m133/133\u001b[0m \u001b[32m━━━━━━━━━━━━━━━━━━━━\u001b[0m\u001b[37m\u001b[0m \u001b[1m0s\u001b[0m 2ms/step - loss: 1.8256 - mean_absolute_error: 1.0575 - val_loss: 3.8751 - val_mean_absolute_error: 1.5135\n",
            "Epoch 48/50\n",
            "\u001b[1m133/133\u001b[0m \u001b[32m━━━━━━━━━━━━━━━━━━━━\u001b[0m\u001b[37m\u001b[0m \u001b[1m1s\u001b[0m 2ms/step - loss: 1.9130 - mean_absolute_error: 1.1019 - val_loss: 3.6179 - val_mean_absolute_error: 1.4531\n",
            "Epoch 49/50\n",
            "\u001b[1m133/133\u001b[0m \u001b[32m━━━━━━━━━━━━━━━━━━━━\u001b[0m\u001b[37m\u001b[0m \u001b[1m0s\u001b[0m 2ms/step - loss: 2.0570 - mean_absolute_error: 1.1303 - val_loss: 3.3226 - val_mean_absolute_error: 1.3916\n",
            "Epoch 50/50\n",
            "\u001b[1m133/133\u001b[0m \u001b[32m━━━━━━━━━━━━━━━━━━━━\u001b[0m\u001b[37m\u001b[0m \u001b[1m0s\u001b[0m 2ms/step - loss: 1.7012 - mean_absolute_error: 1.0129 - val_loss: 3.5496 - val_mean_absolute_error: 1.4440\n"
          ]
        }
      ]
    },
    {
      "cell_type": "markdown",
      "source": [
        "**Evaluating the Model**"
      ],
      "metadata": {
        "id": "o6Qu_6vx3YJ1"
      }
    },
    {
      "cell_type": "markdown",
      "source": [
        "**Mean Squared Error and Loss:**"
      ],
      "metadata": {
        "id": "o-P1qI6nFjDz"
      }
    },
    {
      "cell_type": "code",
      "source": [
        "# Evaluate the model on the test data\n",
        "# loss : mean squared error, mae : mean absolute error\n",
        "test_loss, test_mae = model.evaluate(X_test_pca, y_test, verbose=1)\n",
        "\n",
        "print(f'Test Loss: {test_loss}')\n",
        "print(f'Test MAE: {test_mae}')\n"
      ],
      "metadata": {
        "colab": {
          "base_uri": "https://localhost:8080/"
        },
        "id": "sXdY8jj-3boc",
        "outputId": "c503039f-7c54-4367-fc13-2cdad7e0c1f1"
      },
      "execution_count": null,
      "outputs": [
        {
          "output_type": "stream",
          "name": "stdout",
          "text": [
            "\u001b[1m42/42\u001b[0m \u001b[32m━━━━━━━━━━━━━━━━━━━━\u001b[0m\u001b[37m\u001b[0m \u001b[1m0s\u001b[0m 2ms/step - loss: 3.5199 - mean_absolute_error: 1.3677\n",
            "Test Loss: 3.4514646530151367\n",
            "Test MAE: 1.3721511363983154\n"
          ]
        }
      ]
    },
    {
      "cell_type": "markdown",
      "source": [
        "**Plotting the Training history**"
      ],
      "metadata": {
        "id": "0w3XQfnb3fTq"
      }
    },
    {
      "cell_type": "code",
      "source": [
        "import matplotlib.pyplot as plt\n",
        "\n",
        "# Plot training & validation loss values\n",
        "plt.plot(history.history['loss'])\n",
        "plt.plot(history.history['val_loss'])\n",
        "plt.title('Model MSE')\n",
        "plt.ylabel('Loss')\n",
        "plt.xlabel('Epoch')\n",
        "plt.legend(['Train', 'Validation'], loc='upper right')\n",
        "plt.show()\n",
        "\n",
        "# Plot training & validation MAE values\n",
        "plt.plot(history.history['mean_absolute_error'])\n",
        "plt.plot(history.history['val_mean_absolute_error'])\n",
        "plt.title('Model MAE')\n",
        "plt.ylabel('MAE')\n",
        "plt.xlabel('Epoch')\n",
        "plt.legend(['Train', 'Validation'], loc='upper right')\n",
        "plt.show()\n"
      ],
      "metadata": {
        "colab": {
          "base_uri": "https://localhost:8080/",
          "height": 927
        },
        "id": "YXj8fOYh3iRz",
        "outputId": "7024e4ff-1a44-4b29-dda2-daaa060839b6"
      },
      "execution_count": null,
      "outputs": [
        {
          "output_type": "display_data",
          "data": {
            "text/plain": [
              "<Figure size 640x480 with 1 Axes>"
            ],
            "image/png": "[encoded data removed]"
          },
          "metadata": {}
        },
        {
          "output_type": "display_data",
          "data": {
            "text/plain": [
              "<Figure size 640x480 with 1 Axes>"
            ],
            "image/png": "[encoded data removed]"
          },
          "metadata": {}
        }
      ]
    },
    {
      "cell_type": "markdown",
      "source": [
        "**Creating predictions:**"
      ],
      "metadata": {
        "id": "m8kCh1CvFrHF"
      }
    },
    {
      "cell_type": "code",
      "source": [
        "# Make predictions on the test data\n",
        "y_pred = model.predict(X_test_pca)\n",
        "\n",
        "# Display the first few predictions alongside the actual values for comparison\n",
        "for i in range(10):\n",
        "    print(f\"Actual value: {y_test.iloc[i]}, Prediction: {y_pred[i][0]}\")\n"
      ],
      "metadata": {
        "colab": {
          "base_uri": "https://localhost:8080/"
        },
        "id": "71Ycf7dblJma",
        "outputId": "930d1d29-1c5d-46e4-83d7-17a53356a837"
      },
      "execution_count": null,
      "outputs": [
        {
          "output_type": "stream",
          "name": "stdout",
          "text": [
            "\u001b[1m42/42\u001b[0m \u001b[32m━━━━━━━━━━━━━━━━━━━━\u001b[0m\u001b[37m\u001b[0m \u001b[1m0s\u001b[0m 4ms/step\n",
            "Actual value: 86.45111111, Prediction: 94.28528594970703\n",
            "Actual value: 82.44815494, Prediction: 83.7211685180664\n",
            "Actual value: 83.5068253, Prediction: 81.42867279052734\n",
            "Actual value: 91.26388399, Prediction: 89.47543334960938\n",
            "Actual value: 87.09246187, Prediction: 89.92375946044922\n",
            "Actual value: 83.33644249, Prediction: 83.31360626220703\n",
            "Actual value: 84.37316481, Prediction: 83.68989562988281\n",
            "Actual value: 89.46165383, Prediction: 91.0702896118164\n",
            "Actual value: 89.4912208, Prediction: 90.01325225830078\n",
            "Actual value: 76.54846554, Prediction: 75.15100860595703\n"
          ]
        }
      ]
    },
    {
      "cell_type": "markdown",
      "source": [
        "**Saving the output file:**"
      ],
      "metadata": {
        "id": "O5iFPZGSb-KS"
      }
    },
    {
      "cell_type": "code",
      "source": [
        "##Saving predictions to csv file:\n",
        "\n",
        "# Create ID for each data point\n",
        "data_instance_id = range(1, len(y_pred) + 1)\n",
        "\n",
        "# Create a DataFrame with the required columns\n",
        "results = pd.DataFrame({\n",
        "    'instance_id': data_instance_id,  # the instance ID\n",
        "    'true_label': y_test.round(4),         # The true labels\n",
        "    'prediction': y_pred.flatten().round(4)  # Flatten the predictions array\n",
        "})\n",
        "\n",
        "# Save the DataFrame to a CSV file\n",
        "results.to_csv('model_predictions.csv', index=False)\n",
        "\n",
        "print(\"Predictions have been saved to 'model_predictions.csv'.\")\n"
      ],
      "metadata": {
        "colab": {
          "base_uri": "https://localhost:8080/"
        },
        "id": "yW6CsSsb4fYx",
        "outputId": "9fbdc8be-14eb-4d36-fc09-7c761dc31150"
      },
      "execution_count": null,
      "outputs": [
        {
          "output_type": "stream",
          "name": "stdout",
          "text": [
            "Predictions have been saved to 'model_predictions.csv'.\n"
          ]
        }
      ]
    },
    {
      "cell_type": "code",
      "source": [
        "results.head(10)"
      ],
      "metadata": {
        "colab": {
          "base_uri": "https://localhost:8080/",
          "height": 363
        },
        "id": "KH4Sk00m8pCE",
        "outputId": "51c8406a-927a-4d33-e808-ac0616a3d9df"
      },
      "execution_count": null,
      "outputs": [
        {
          "output_type": "execute_result",
          "data": {
            "text/plain": [
              "   instance_id  true_label  prediction\n",
              "0            1     86.4511   94.285301\n",
              "1            2     82.4482   83.721199\n",
              "2            3     83.5068   81.428703\n",
              "3            4     91.2639   89.475403\n",
              "4            5     87.0925   89.923798\n",
              "5            6     83.3364   83.313599\n",
              "6            7     84.3732   83.689903\n",
              "7            8     89.4617   91.070297\n",
              "8            9     89.4912   90.013199\n",
              "9           10     76.5485   75.151001"
            ],
            "text/html": [
              "\n",
              "  <div id=\"df-140e7391-cd66-4f1e-9c0c-08eb098ccfec\" class=\"colab-df-container\">\n",
              "    <div>\n",
              "<style scoped>\n",
              "    .dataframe tbody tr th:only-of-type {\n",
              "        vertical-align: middle;\n",
              "    }\n",
              "\n",
              "    .dataframe tbody tr th {\n",
              "        vertical-align: top;\n",
              "    }\n",
              "\n",
              "    .dataframe thead th {\n",
              "        text-align: right;\n",
              "    }\n",
              "</style>\n",
              "<table border=\"1\" class=\"dataframe\">\n",
              "  <thead>\n",
              "    <tr style=\"text-align: right;\">\n",
              "      <th></th>\n",
              "      <th>instance_id</th>\n",
              "      <th>true_label</th>\n",
              "      <th>prediction</th>\n",
              "    </tr>\n",
              "  </thead>\n",
              "  <tbody>\n",
              "    <tr>\n",
              "      <th>0</th>\n",
              "      <td>1</td>\n",
              "      <td>86.4511</td>\n",
              "      <td>94.285301</td>\n",
              "    </tr>\n",
              "    <tr>\n",
              "      <th>1</th>\n",
              "      <td>2</td>\n",
              "      <td>82.4482</td>\n",
              "      <td>83.721199</td>\n",
              "    </tr>\n",
              "    <tr>\n",
              "      <th>2</th>\n",
              "      <td>3</td>\n",
              "      <td>83.5068</td>\n",
              "      <td>81.428703</td>\n",
              "    </tr>\n",
              "    <tr>\n",
              "      <th>3</th>\n",
              "      <td>4</td>\n",
              "      <td>91.2639</td>\n",
              "      <td>89.475403</td>\n",
              "    </tr>\n",
              "    <tr>\n",
              "      <th>4</th>\n",
              "      <td>5</td>\n",
              "      <td>87.0925</td>\n",
              "      <td>89.923798</td>\n",
              "    </tr>\n",
              "    <tr>\n",
              "      <th>5</th>\n",
              "      <td>6</td>\n",
              "      <td>83.3364</td>\n",
              "      <td>83.313599</td>\n",
              "    </tr>\n",
              "    <tr>\n",
              "      <th>6</th>\n",
              "      <td>7</td>\n",
              "      <td>84.3732</td>\n",
              "      <td>83.689903</td>\n",
              "    </tr>\n",
              "    <tr>\n",
              "      <th>7</th>\n",
              "      <td>8</td>\n",
              "      <td>89.4617</td>\n",
              "      <td>91.070297</td>\n",
              "    </tr>\n",
              "    <tr>\n",
              "      <th>8</th>\n",
              "      <td>9</td>\n",
              "      <td>89.4912</td>\n",
              "      <td>90.013199</td>\n",
              "    </tr>\n",
              "    <tr>\n",
              "      <th>9</th>\n",
              "      <td>10</td>\n",
              "      <td>76.5485</td>\n",
              "      <td>75.151001</td>\n",
              "    </tr>\n",
              "  </tbody>\n",
              "</table>\n",
              "</div>\n",
              "    <div class=\"colab-df-buttons\">\n",
              "\n",
              "  <div class=\"colab-df-container\">\n",
              "    <button class=\"colab-df-convert\" onclick=\"convertToInteractive('df-140e7391-cd66-4f1e-9c0c-08eb098ccfec')\"\n",
              "            title=\"Convert this dataframe to an interactive table.\"\n",
              "            style=\"display:none;\">\n",
              "\n",
              "  <svg xmlns=\"http://www.w3.org/2000/svg\" height=\"24px\" viewBox=\"0 -960 960 960\">\n",
              "    <path d=\"M120-120v-720h720v720H120Zm60-500h600v-160H180v160Zm220 220h160v-160H400v160Zm0 220h160v-160H400v160ZM180-400h160v-160H180v160Zm440 0h160v-160H620v160ZM180-180h160v-160H180v160Zm440 0h160v-160H620v160Z\"/>\n",
              "  </svg>\n",
              "    </button>\n",
              "\n",
              "  <style>\n",
              "    .colab-df-container {\n",
              "      display:flex;\n",
              "      gap: 12px;\n",
              "    }\n",
              "\n",
              "    .colab-df-convert {\n",
              "      background-color: #E8F0FE;\n",
              "      border: none;\n",
              "      border-radius: 50%;\n",
              "      cursor: pointer;\n",
              "      display: none;\n",
              "      fill: #1967D2;\n",
              "      height: 32px;\n",
              "      padding: 0 0 0 0;\n",
              "      width: 32px;\n",
              "    }\n",
              "\n",
              "    .colab-df-convert:hover {\n",
              "      background-color: #E2EBFA;\n",
              "      box-shadow: 0px 1px 2px rgba(60, 64, 67, 0.3), 0px 1px 3px 1px rgba(60, 64, 67, 0.15);\n",
              "      fill: #174EA6;\n",
              "    }\n",
              "\n",
              "    .colab-df-buttons div {\n",
              "      margin-bottom: 4px;\n",
              "    }\n",
              "\n",
              "    [theme=dark] .colab-df-convert {\n",
              "      background-color: #3B4455;\n",
              "      fill: #D2E3FC;\n",
              "    }\n",
              "\n",
              "    [theme=dark] .colab-df-convert:hover {\n",
              "      background-color: #434B5C;\n",
              "      box-shadow: 0px 1px 3px 1px rgba(0, 0, 0, 0.15);\n",
              "      filter: drop-shadow(0px 1px 2px rgba(0, 0, 0, 0.3));\n",
              "      fill: #FFFFFF;\n",
              "    }\n",
              "  </style>\n",
              "\n",
              "    <script>\n",
              "      const buttonEl =\n",
              "        document.querySelector('#df-140e7391-cd66-4f1e-9c0c-08eb098ccfec button.colab-df-convert');\n",
              "      buttonEl.style.display =\n",
              "        google.colab.kernel.accessAllowed ? 'block' : 'none';\n",
              "\n",
              "      async function convertToInteractive(key) {\n",
              "        const element = document.querySelector('#df-140e7391-cd66-4f1e-9c0c-08eb098ccfec');\n",
              "        const dataTable =\n",
              "          await google.colab.kernel.invokeFunction('convertToInteractive',\n",
              "                                                    [key], {});\n",
              "        if (!dataTable) return;\n",
              "\n",
              "        const docLinkHtml = 'Like what you see? Visit the ' +\n",
              "          '<a target=\"_blank\" href=https://colab.research.google.com/notebooks/data_table.ipynb>data table notebook</a>'\n",
              "          + ' to learn more about interactive tables.';\n",
              "        element.innerHTML = '';\n",
              "        dataTable['output_type'] = 'display_data';\n",
              "        await google.colab.output.renderOutput(dataTable, element);\n",
              "        const docLink = document.createElement('div');\n",
              "        docLink.innerHTML = docLinkHtml;\n",
              "        element.appendChild(docLink);\n",
              "      }\n",
              "    </script>\n",
              "  </div>\n",
              "\n",
              "\n",
              "<div id=\"df-60046058-1323-451c-91f7-1dfb73ba72a9\">\n",
              "  <button class=\"colab-df-quickchart\" onclick=\"quickchart('df-60046058-1323-451c-91f7-1dfb73ba72a9')\"\n",
              "            title=\"Suggest charts\"\n",
              "            style=\"display:none;\">\n",
              "\n",
              "<svg xmlns=\"http://www.w3.org/2000/svg\" height=\"24px\"viewBox=\"0 0 24 24\"\n",
              "     width=\"24px\">\n",
              "    <g>\n",
              "        <path d=\"M19 3H5c-1.1 0-2 .9-2 2v14c0 1.1.9 2 2 2h14c1.1 0 2-.9 2-2V5c0-1.1-.9-2-2-2zM9 17H7v-7h2v7zm4 0h-2V7h2v10zm4 0h-2v-4h2v4z\"/>\n",
              "    </g>\n",
              "</svg>\n",
              "  </button>\n",
              "\n",
              "<style>\n",
              "  .colab-df-quickchart {\n",
              "      --bg-color: #E8F0FE;\n",
              "      --fill-color: #1967D2;\n",
              "      --hover-bg-color: #E2EBFA;\n",
              "      --hover-fill-color: #174EA6;\n",
              "      --disabled-fill-color: #AAA;\n",
              "      --disabled-bg-color: #DDD;\n",
              "  }\n",
              "\n",
              "  [theme=dark] .colab-df-quickchart {\n",
              "      --bg-color: #3B4455;\n",
              "      --fill-color: #D2E3FC;\n",
              "      --hover-bg-color: #434B5C;\n",
              "      --hover-fill-color: #FFFFFF;\n",
              "      --disabled-bg-color: #3B4455;\n",
              "      --disabled-fill-color: #666;\n",
              "  }\n",
              "\n",
              "  .colab-df-quickchart {\n",
              "    background-color: var(--bg-color);\n",
              "    border: none;\n",
              "    border-radius: 50%;\n",
              "    cursor: pointer;\n",
              "    display: none;\n",
              "    fill: var(--fill-color);\n",
              "    height: 32px;\n",
              "    padding: 0;\n",
              "    width: 32px;\n",
              "  }\n",
              "\n",
              "  .colab-df-quickchart:hover {\n",
              "    background-color: var(--hover-bg-color);\n",
              "    box-shadow: 0 1px 2px rgba(60, 64, 67, 0.3), 0 1px 3px 1px rgba(60, 64, 67, 0.15);\n",
              "    fill: var(--button-hover-fill-color);\n",
              "  }\n",
              "\n",
              "  .colab-df-quickchart-complete:disabled,\n",
              "  .colab-df-quickchart-complete:disabled:hover {\n",
              "    background-color: var(--disabled-bg-color);\n",
              "    fill: var(--disabled-fill-color);\n",
              "    box-shadow: none;\n",
              "  }\n",
              "\n",
              "  .colab-df-spinner {\n",
              "    border: 2px solid var(--fill-color);\n",
              "    border-color: transparent;\n",
              "    border-bottom-color: var(--fill-color);\n",
              "    animation:\n",
              "      spin 1s steps(1) infinite;\n",
              "  }\n",
              "\n",
              "  @keyframes spin {\n",
              "    0% {\n",
              "      border-color: transparent;\n",
              "      border-bottom-color: var(--fill-color);\n",
              "      border-left-color: var(--fill-color);\n",
              "    }\n",
              "    20% {\n",
              "      border-color: transparent;\n",
              "      border-left-color: var(--fill-color);\n",
              "      border-top-color: var(--fill-color);\n",
              "    }\n",
              "    30% {\n",
              "      border-color: transparent;\n",
              "      border-left-color: var(--fill-color);\n",
              "      border-top-color: var(--fill-color);\n",
              "      border-right-color: var(--fill-color);\n",
              "    }\n",
              "    40% {\n",
              "      border-color: transparent;\n",
              "      border-right-color: var(--fill-color);\n",
              "      border-top-color: var(--fill-color);\n",
              "    }\n",
              "    60% {\n",
              "      border-color: transparent;\n",
              "      border-right-color: var(--fill-color);\n",
              "    }\n",
              "    80% {\n",
              "      border-color: transparent;\n",
              "      border-right-color: var(--fill-color);\n",
              "      border-bottom-color: var(--fill-color);\n",
              "    }\n",
              "    90% {\n",
              "      border-color: transparent;\n",
              "      border-bottom-color: var(--fill-color);\n",
              "    }\n",
              "  }\n",
              "</style>\n",
              "\n",
              "  <script>\n",
              "    async function quickchart(key) {\n",
              "      const quickchartButtonEl =\n",
              "        document.querySelector('#' + key + ' button');\n",
              "      quickchartButtonEl.disabled = true;  // To prevent multiple clicks.\n",
              "      quickchartButtonEl.classList.add('colab-df-spinner');\n",
              "      try {\n",
              "        const charts = await google.colab.kernel.invokeFunction(\n",
              "            'suggestCharts', [key], {});\n",
              "      } catch (error) {\n",
              "        console.error('Error during call to suggestCharts:', error);\n",
              "      }\n",
              "      quickchartButtonEl.classList.remove('colab-df-spinner');\n",
              "      quickchartButtonEl.classList.add('colab-df-quickchart-complete');\n",
              "    }\n",
              "    (() => {\n",
              "      let quickchartButtonEl =\n",
              "        document.querySelector('#df-60046058-1323-451c-91f7-1dfb73ba72a9 button');\n",
              "      quickchartButtonEl.style.display =\n",
              "        google.colab.kernel.accessAllowed ? 'block' : 'none';\n",
              "    })();\n",
              "  </script>\n",
              "</div>\n",
              "\n",
              "    </div>\n",
              "  </div>\n"
            ],
            "application/vnd.google.colaboratory.intrinsic+json": {
              "type": "dataframe",
              "variable_name": "results",
              "summary": "{\n  \"name\": \"results\",\n  \"rows\": 1326,\n  \"fields\": [\n    {\n      \"column\": \"instance_id\",\n      \"properties\": {\n        \"dtype\": \"number\",\n        \"std\": 382,\n        \"min\": 1,\n        \"max\": 1326,\n        \"num_unique_values\": 1326,\n        \"samples\": [\n          890,\n          468,\n          888\n        ],\n        \"semantic_type\": \"\",\n        \"description\": \"\"\n      }\n    },\n    {\n      \"column\": \"true_label\",\n      \"properties\": {\n        \"dtype\": \"number\",\n        \"std\": 5.3737050017496735,\n        \"min\": 63.2738,\n        \"max\": 93.7955,\n        \"num_unique_values\": 1319,\n        \"samples\": [\n          81.8694,\n          78.5876,\n          80.1616\n        ],\n        \"semantic_type\": \"\",\n        \"description\": \"\"\n      }\n    },\n    {\n      \"column\": \"prediction\",\n      \"properties\": {\n        \"dtype\": \"float32\",\n        \"num_unique_values\": 1323,\n        \"samples\": [\n          81.83329772949219,\n          82.1510009765625,\n          88.53099822998047\n        ],\n        \"semantic_type\": \"\",\n        \"description\": \"\"\n      }\n    }\n  ]\n}"
            }
          },
          "metadata": {},
          "execution_count": 19
        }
      ]
    }
  ]
}